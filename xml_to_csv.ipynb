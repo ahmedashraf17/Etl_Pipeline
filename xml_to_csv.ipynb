{
 "cells": [
  {
   "cell_type": "code",
   "execution_count": 8,
   "id": "13b00120",
   "metadata": {},
   "outputs": [],
   "source": [
    "## import required libraries\n",
    "import csv\n",
    "import xml.etree.ElementTree as et\n",
    "import sys\n",
    "import pathlib\n",
    "import os\n",
    "from google.cloud import storage\n",
    "\n",
    "\n",
    "# the core method for etl\n",
    "\n",
    "def xml_to_csv(file_path,csv_name):\n",
    "    tree = et.parse(file_path)\n",
    "    root = tree.getroot()\n",
    "    \n",
    "    with open(csv_name,'w') as csv_file:\n",
    "        writer = csv.writer(csv_file)\n",
    "        headers = (child.tag for child in root[0])\n",
    "        writer.writerow(headers)\n",
    "        num_of_records = len(root)\n",
    "        \n",
    "        for record in range(num_of_records):\n",
    "            record_data = (child.text for child in root[record])\n",
    "            writer.writerow(record_data)\n",
    "# upload method to Gcs bucket           \n",
    "def upload_to_storage(bucket_name, source_file_path, destination_blob_path):\n",
    "    #Uploads a file to the bucket \n",
    "    storage_client = storage.Client()\n",
    "    bucket = storage_client.get_bucket(bucket_name)\n",
    "    blob = bucket.blob(destination_blob_path)\n",
    "    blob.upload_from_filename(source_file_path)\n",
    "    print(f'The file {source_file_path} is uploaded to GCP bucket path: {destination_blob_path}')\n",
    "    return None   \n",
    "        \n",
    "if __name__ =='__main__':\n",
    "    file_path = 'books.xml' \n",
    "    csv_name ='data1.csv'\n",
    "    # to ensure the file is already exist\n",
    "    with pathlib.Path(file_path) as xml_file:\n",
    "        if xml_file.is_file():\n",
    "            xml_to_csv(file_path,csv_name)\n",
    "        else:\n",
    "            sys.exit(f'{file_path} is mess out!')\n",
    "      \n",
    "    # 2. Set JSON key as environment variable\n",
    "    os.environ[\"GOOGLE_APPLICATION_CREDENTIALS\"]=\"/Users/options/Desktop/shaped-totem-351820-7e75cb04a7b9.json\"\n",
    "\n",
    "    # 3. Specify a bucket name and other details\n",
    "    bucket_name = 'bucket_for_pandas_dataframe'\n",
    "    source_file_path = 'books.csv'\n",
    "    destination_blob_path = 'data/books.csv'\n",
    "    # 4 run the upload method\n",
    "    upload_to_storage(bucket_name, source_file_path, destination_blob_path)"
   ]
  }
 ],
 "metadata": {
  "kernelspec": {
   "display_name": "Python 3 (ipykernel)",
   "language": "python",
   "name": "python3"
  },
  "language_info": {
   "codemirror_mode": {
    "name": "ipython",
    "version": 3
   },
   "file_extension": ".py",
   "mimetype": "text/x-python",
   "name": "python",
   "nbconvert_exporter": "python",
   "pygments_lexer": "ipython3",
   "version": "3.9.7"
  }
 },
 "nbformat": 4,
 "nbformat_minor": 5
}
